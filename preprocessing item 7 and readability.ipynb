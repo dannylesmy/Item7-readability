{
 "cells": [
  {
   "cell_type": "code",
   "execution_count": 1,
   "id": "05bbfdd6-9421-42da-a9fe-23c67ddd1990",
   "metadata": {},
   "outputs": [],
   "source": [
    "import pandas as pd\n",
    "import numpy as np\n",
    "import re\n",
    "import re\n",
    "from readabilty import Readability"
   ]
  },
  {
   "cell_type": "code",
   "execution_count": 3,
   "id": "b8fca155-2545-4762-b551-edeb9a37214a",
   "metadata": {},
   "outputs": [
    {
     "name": "stderr",
     "output_type": "stream",
     "text": [
      "<>:3: SyntaxWarning: invalid escape sequence '\\d'\n",
      "<>:3: SyntaxWarning: invalid escape sequence '\\d'\n",
      "C:\\Users\\Danny\\AppData\\Local\\Temp\\3\\ipykernel_17044\\476235314.py:3: SyntaxWarning: invalid escape sequence '\\d'\n",
      "  updated = pd.read_feather(\"EDGAR-CORPUS\\data\\edgar\\datasets\\item7_EDGAR-CORPUS_2021-2023.feather\")\n"
     ]
    },
    {
     "name": "stdout",
     "output_type": "stream",
     "text": [
      "<class 'pandas.core.frame.DataFrame'>\n",
      "RangeIndex: 235819 entries, 0 to 235818\n",
      "Data columns (total 9 columns):\n",
      " #   Column            Non-Null Count   Dtype  \n",
      "---  ------            --------------   -----  \n",
      " 0   filename          235819 non-null  object \n",
      " 1   cik               235819 non-null  object \n",
      " 2   sic               233892 non-null  object \n",
      " 3   filing_date       235819 non-null  object \n",
      " 4   period_of_report  235819 non-null  object \n",
      " 5   fog_score_item7   204671 non-null  float64\n",
      " 6   item_7            235819 non-null  object \n",
      " 7   num_words         231127 non-null  float64\n",
      " 8   year              235819 non-null  int64  \n",
      "dtypes: float64(2), int64(1), object(6)\n",
      "memory usage: 16.2+ MB\n"
     ]
    }
   ],
   "source": [
    "df = pd.read_feather(\"PATH/TO/ALL/FILES\")\n",
    "df.info()"
   ]
  },
  {
   "cell_type": "code",
   "execution_count": 4,
   "id": "4f8e73e0-32b4-49ce-af7c-4ce820c992f4",
   "metadata": {},
   "outputs": [],
   "source": [
    "df = df[df.year.between(1996,2022)]\n",
    "df.drop_duplicates(subset=[\"item_7\",\"year\"], keep=\"first\",inplace=True)\n",
    "df.reset_index(drop=True, inplace=True)"
   ]
  },
  {
   "cell_type": "code",
   "execution_count": 6,
   "id": "a52caf18-7573-4692-a42c-a22431939159",
   "metadata": {},
   "outputs": [
    {
     "name": "stdout",
     "output_type": "stream",
     "text": [
      "190.3002169197397\n",
      "3.257142857142857\n",
      "18.486239574653997\n",
      "2.450177710071397\n"
     ]
    }
   ],
   "source": [
    "print(df.fog_score_item7.max())\n",
    "print(df.fog_score_item7.min())\n",
    "print(df.fog_score_item7.mean())\n",
    "print(df.fog_score_item7.std())"
   ]
  },
  {
   "cell_type": "code",
   "execution_count": 9,
   "id": "52e2e57c-4ff6-45ea-a1a7-477109487e91",
   "metadata": {},
   "outputs": [],
   "source": [
    "df = df[df.fog_score_item7.between(13,24)]"
   ]
  },
  {
   "cell_type": "code",
   "execution_count": 11,
   "id": "a8558a47-e098-460b-b580-352f352f7c79",
   "metadata": {},
   "outputs": [],
   "source": [
    "# recalculate fog for better accuracy "
   ]
  },
  {
   "cell_type": "code",
   "execution_count": 13,
   "id": "739b3137-fca8-4464-a1e0-21cdfdb90dd7",
   "metadata": {},
   "outputs": [],
   "source": [
    "def find_item_7a_8(text):\n",
    "    try:\n",
    "        item8 = re.search(r\"(?<!see)(?<!in)\\s+item 8\",text, flags=re.I)\n",
    "        item9 = re.search(r\"(?<!see)(?<!in)\\s+item 9\",text, flags=re.I)\n",
    "        if item8:\n",
    "               return text[:re.search(r\"(?<!see)(?<!in)\\s+item 8\",text, flags=re.I).span()[0]]\n",
    "        elif item9:\n",
    "                return text[:re.search(r\"(?<!see)(?<!in)\\s+item 9\",text, flags=re.I).span()[0]]\n",
    "        else:\n",
    "                return text[:re.search(r\"(?<!see)(?<!in)\\s+item 7A\",text, flags=re.I).span()[0]]\n",
    "    except: return text\n",
    "    \"\"\"negative lookbehined to find item 8|9 that not preceeded by the word see or in.\n",
    "        the logic for not using the bitwise or | is the regular expression engine will try to match item 8 if it is not preceeded by see or in.\n",
    "        The thing is that, if it is preceeded by an in, it is not preceeded by see, so the first pattern matches. \n",
    "        If it is preceeded by see, it is not preceeded by in, so the second pattern version matches. \n",
    "        In either way one of those patterns will match since in and see are mutually exclusive.\"\"\""
   ]
  },
  {
   "cell_type": "code",
   "execution_count": 15,
   "id": "60d15ef6-8328-42c1-a8b8-f27d406bd5e6",
   "metadata": {},
   "outputs": [],
   "source": [
    "def length(text):\n",
    "    if text:\n",
    "        return len(re.compile(r\"\\b\\S+\\b\").findall(text))"
   ]
  },
  {
   "cell_type": "code",
   "execution_count": 17,
   "id": "fe1eadd8-d4ab-4eb2-b104-c3223e428f41",
   "metadata": {},
   "outputs": [],
   "source": [
    "import dask.dataframe as dd\n",
    "import dask\n",
    "from dask.diagnostics import ProgressBar\n",
    "ProgressBar().register()"
   ]
  },
  {
   "cell_type": "code",
   "execution_count": 21,
   "id": "ca9c35a6-4efd-4db4-a514-8ef7fa2c7d02",
   "metadata": {},
   "outputs": [],
   "source": [
    "def compute_readability(text):\n",
    "    if not isinstance(text, str) or len(text.strip()) == 0:\n",
    "        return None, None, None,None, 0\n",
    "\n",
    "    processed_text = find_item_7a_8(text)\n",
    "    word_count = length(processed_text)\n",
    "\n",
    "    if word_count is None:\n",
    "        word_count = 0\n",
    "\n",
    "    if word_count < 50:\n",
    "        return None, None, None, word_count\n",
    "\n",
    "    r = Readability(processed_text)\n",
    "\n",
    "    try:\n",
    "        ari = r.ari()[0].score\n",
    "        fog = r.gunning_fog().score\n",
    "        fk = r.flesch_kincaid().score\n",
    "        lw = r.linsear_write().score\n",
    "    except:\n",
    "        ari, fog, fk, lw, word_count = None, None, None, None, None\n",
    "\n",
    "    return ari, fog, fk, lw, word_count\n",
    "\n",
    "@dask.delayed\n",
    "def process_row(row):\n",
    "    return compute_readability(row[\"item_7\"])"
   ]
  },
  {
   "cell_type": "code",
   "execution_count": null,
   "id": "ad1c2be8-8a04-4edc-8910-7da85ca04b58",
   "metadata": {},
   "outputs": [],
   "source": [
    "# this will take about 25 minutes ti run \n",
    "ddf = dd.from_pandas(df, npartitions=35)\n",
    "readability_results = dask.compute([process_row(row) for _, row in df.iterrows()], scheduler=\"processes\")"
   ]
  },
  {
   "cell_type": "code",
   "execution_count": null,
   "id": "1d543f78-d034-47ca-b858-7f7dd238bbc2",
   "metadata": {},
   "outputs": [],
   "source": [
    "readability_df = pd.DataFrame(readability_results[0], columns=[\"ari\", \"fog\",\"fk\", \"linsear_write\", \"word_count\"])\n",
    "df = df.reset_index(drop=True)  # Ensure index alignment\n",
    "readability_df = readability_df.reset_index(drop=True)\n",
    "df[[\"ari\", \"fog\", \"fk\", \"linsear_write\",  \"word_count\"]] = readability_df"
   ]
  },
  {
   "cell_type": "code",
   "execution_count": null,
   "id": "c6e347cd-0cd5-4624-bbaa-6582aab32fbb",
   "metadata": {},
   "outputs": [],
   "source": [
    "df = df[df.fog.notna()]\n",
    "df.drop(['item_7', 'num_words','filing_date', 'period_of_report'], axis=1).to_csv(\"item7_multiple_readability.csv\", index=False)"
   ]
  }
 ],
 "metadata": {
  "kernelspec": {
   "display_name": "Python 3 (ipykernel)",
   "language": "python",
   "name": "python3"
  },
  "language_info": {
   "codemirror_mode": {
    "name": "ipython",
    "version": 3
   },
   "file_extension": ".py",
   "mimetype": "text/x-python",
   "name": "python",
   "nbconvert_exporter": "python",
   "pygments_lexer": "ipython3",
   "version": "3.12.7"
  }
 },
 "nbformat": 4,
 "nbformat_minor": 5
}
